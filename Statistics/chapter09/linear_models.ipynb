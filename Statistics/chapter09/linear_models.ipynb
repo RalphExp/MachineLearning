{
 "cells": [
  {
   "cell_type": "markdown",
   "metadata": {},
   "source": [
    "# Exercise 9.2"
   ]
  },
  {
   "cell_type": "code",
   "execution_count": 1,
   "metadata": {},
   "outputs": [],
   "source": [
    "import numpy as np\n",
    "import math\n",
    "import scipy\n",
    "import matplotlib.pyplot as plt\n",
    "\n",
    "from scipy.stats import f"
   ]
  },
  {
   "cell_type": "raw",
   "metadata": {
    "vscode": {
     "languageId": "raw"
    }
   },
   "source": [
    "9.2.3. The following are observations associated with independent random samples\n",
    "from three normal distributions having equal variances and respective means\n",
    "μ1, μ2, μ3.\n",
    "\n",
    "  I  | II  | III\n",
    "----------------\n",
    " 0.5 | 2.1 | 3.0\n",
    " 1.3 | 3.3 | 5.1\n",
    "−1.0 | 0.0 | 1.9\n",
    " 1.8 | 2.3 | 2.4\n",
    "     | 2.5 | 4.2\n",
    "           | 4.1\n",
    "\n",
    "Using Python compute the F-statistic that is used to test\n",
    "H0 : μ1 = μ2 = μ3."
   ]
  },
  {
   "cell_type": "code",
   "execution_count": 18,
   "metadata": {},
   "outputs": [
    {
     "name": "stdout",
     "output_type": "stream",
     "text": [
      "[ 0.5  1.3 -1.   1.8  2.1  3.3  0.   2.3  2.5  3.   5.1  1.9  2.4  4.2\n",
      "  4.1] 15\n",
      "m0: 0.65, m1: 2.04, m2: 3.4500000000000006, grand_mean: 2.233333333333333\n",
      "Q3: 17.937, Q4: 19.09633333333334\n",
      "F: 6.387801750571447\n"
     ]
    }
   ],
   "source": [
    "# example of one-way ANOVA\n",
    "\n",
    "A = [np.array([0.5, 1.3, -1.0, 1.8]),\n",
    "     np.array([2.1, 3.3, 0, 2.3, 2.5]),\n",
    "     np.array([3.0, 5.1, 1.9, 2.4, 4.2, 4.1])]\n",
    "\n",
    "B = np.concatenate(A)\n",
    "M = np.array([np.mean(a) for a in A])\n",
    "\n",
    "grand_mean = np.mean(B)\n",
    "\n",
    "print(f\"m0: {M[0]}, m1: {M[1]}, m2: {M[2]}, grand_mean: {grand_mean}\")\n",
    "Q3 = np.sum(np.concatenate([(a - np.mean(a))**2 for a in A]))\n",
    "Q4 = np.sum([len(a)*(np.mean(a)-grand_mean)**2 for a in A])\n",
    "\n",
    "print(f\"Q3: {Q3}, Q4: {Q4}\")\n",
    "F = (Q4 / (len(A)-1)) / (Q3 / (len(B)-len(A)))\n",
    "\n",
    "print(f\"F: {F}\")"
   ]
  },
  {
   "cell_type": "markdown",
   "metadata": {},
   "source": []
  }
 ],
 "metadata": {
  "kernelspec": {
   "display_name": "Python 3",
   "language": "python",
   "name": "python3"
  },
  "language_info": {
   "codemirror_mode": {
    "name": "ipython",
    "version": 3
   },
   "file_extension": ".py",
   "mimetype": "text/x-python",
   "name": "python",
   "nbconvert_exporter": "python",
   "pygments_lexer": "ipython3",
   "version": "3.8.10"
  }
 },
 "nbformat": 4,
 "nbformat_minor": 2
}
