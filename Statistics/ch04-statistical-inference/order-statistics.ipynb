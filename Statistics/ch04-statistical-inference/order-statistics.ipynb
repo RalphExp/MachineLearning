{
 "cells": [
  {
   "cell_type": "markdown",
   "id": "c9e6508a-648f-4afd-ad5c-2448a8db3a46",
   "metadata": {},
   "source": [
    "# Exercises 4.4"
   ]
  },
  {
   "cell_type": "code",
   "execution_count": 1,
   "id": "e90de488-24be-4a64-864b-083fe35ba80b",
   "metadata": {},
   "outputs": [],
   "source": [
    "import numpy\n",
    "import scipy\n",
    "import math\n",
    "import rdata\n",
    "import matplotlib.pyplot as plt\n",
    "\n",
    "from scipy.special import gamma\n",
    "from scipy.stats import t, norm"
   ]
  },
  {
   "cell_type": "markdown",
   "id": "018bb54b-07c4-4e48-9895-701c61c9e770",
   "metadata": {},
   "source": [
    "> 4.4.2. Suppose the pdf f(x) is symmetric about 0 with cdf F(x). Show that the\n",
    "> probability of a potential outlier from this distribution is 2F(4q1), where F−1(0.25) =\n",
    "> q1 Use this to obtain the probability that an observation is a potential outlier for\n",
    "> the following distributions.\n",
    "\n",
    "> (a) The underlying distribution is normal. Use the N(0, 1) distribution."
   ]
  },
  {
   "cell_type": "code",
   "execution_count": 2,
   "id": "4d5ef9f9-c8fd-44b4-b337-3b3bca22fdfd",
   "metadata": {},
   "outputs": [
    {
     "name": "stdout",
     "output_type": "stream",
     "text": [
      "-0.6744897501960817 -2.697959000784327\n",
      "0.006976603239280237\n"
     ]
    }
   ],
   "source": [
    "q1 = norm.ppf(0.25)\n",
    "print(q1, 4*q1)\n",
    "# normal distribtuion\n",
    "res = 2*norm.cdf(4*q1)\n",
    "print(res)"
   ]
  },
  {
   "cell_type": "markdown",
   "id": "dbf336d5-2431-4e8a-9518-84af677c1d98",
   "metadata": {},
   "source": [
    "> (b) The underlying distribution is logistic; that is, the pdf is given by\n",
    "> f(x) = e^−x / (1 + e^−x)^2 , −∞ < x < ∞.\n",
    "\n",
    "> cdf F(x) = 1/(1 + e^-x)"
   ]
  },
  {
   "cell_type": "code",
   "execution_count": 3,
   "id": "b8f1ea44-a10c-4b8f-9d0f-96d72c384e46",
   "metadata": {},
   "outputs": [
    {
     "name": "stdout",
     "output_type": "stream",
     "text": [
      "0.12618779646035425\n"
     ]
    }
   ],
   "source": [
    "res = 2*(1/(1+math.exp(-q1*4)))\n",
    "print(res)"
   ]
  },
  {
   "cell_type": "code",
   "execution_count": 4,
   "id": "222ab148-957f-4401-bf46-15a74c33dd58",
   "metadata": {},
   "outputs": [
    {
     "name": "stdout",
     "output_type": "stream",
     "text": [
      "-1.0986122886681098\n"
     ]
    }
   ],
   "source": [
    "q1 = -math.log(3)\n",
    "print(q1)"
   ]
  },
  {
   "cell_type": "markdown",
   "id": "615c7e29-e157-4ebf-ba93-68cd7bc870bc",
   "metadata": {},
   "source": [
    "> (c) The underlying distribution is Laplace, with the pdf\n",
    "> f(x) = 1/2*exp(−|x|), −∞ < x < ∞."
   ]
  },
  {
   "cell_type": "code",
   "execution_count": 5,
   "id": "da86b7e6-5bc6-4d6b-a549-5d4b79f80ab5",
   "metadata": {},
   "outputs": [
    {
     "name": "stdout",
     "output_type": "stream",
     "text": [
      "0.0625\n"
     ]
    }
   ],
   "source": [
    "q1 = -math.log(2)\n",
    "# when x < 0 F(x) = 1/2 * exp(x)\n",
    "res = 2*1/2*math.exp(4*q1)\n",
    "print(res)"
   ]
  },
  {
   "cell_type": "markdown",
   "id": "71c56eaf-457b-4052-8cff-6b6be53477ed",
   "metadata": {},
   "source": [
    "> 4.4.3. Consider the sample of data (data are in the file ex4.4.3data.rda):\n",
    "\n",
    "13 5 202 15 99 4 67 83 36 11 301 23 213 40 66 106 78 69 166 84 64"
   ]
  },
  {
   "cell_type": "markdown",
   "id": "f112021c-20f6-49da-9489-f534f5aadec3",
   "metadata": {},
   "source": [
    "> (a) Obtain the five-number summary of these data."
   ]
  },
  {
   "cell_type": "code",
   "execution_count": 6,
   "id": "20f5169b-bdc3-46af-bd6b-3aa402c20445",
   "metadata": {},
   "outputs": [
    {
     "name": "stdout",
     "output_type": "stream",
     "text": [
      "[4, 5, 11, 13, 15, 23, 36, 40, 64, 66, 67, 69, 78, 83, 84, 99, 106, 166, 202, 213, 301] 21\n"
     ]
    }
   ],
   "source": [
    "data = [13, 5, 202, 15, 99, 4, 67, 83, 36, 11, 301, 23, 213, 40, 66, 106, 78, 69, 166, 84, 64]\n",
    "data = sorted(data)\n",
    "print(data, len(data))"
   ]
  },
  {
   "cell_type": "code",
   "execution_count": 7,
   "id": "f9051905-8940-4603-95e2-ac389ddb8ef0",
   "metadata": {},
   "outputs": [
    {
     "name": "stdout",
     "output_type": "stream",
     "text": [
      "4 15 67 99 301\n"
     ]
    }
   ],
   "source": [
    "Y1 = data[1-1]\n",
    "Q1 = data[(21+1)//4-1]\n",
    "Q2 = data[(21+1)//2-1]\n",
    "Q3 = data[(21+1)*3//4-1]\n",
    "Yn = data[21-1]\n",
    "print(Y1, Q1, Q2, Q3, Yn)"
   ]
  },
  {
   "cell_type": "markdown",
   "id": "2c7a1eb2-6512-4a04-9c97-8edeeac06ee4",
   "metadata": {},
   "source": [
    "> (b) Determine if there are any outliers."
   ]
  },
  {
   "cell_type": "code",
   "execution_count": 8,
   "id": "84604567-e6d2-4742-93ac-f890f2520dc1",
   "metadata": {},
   "outputs": [
    {
     "name": "stdout",
     "output_type": "stream",
     "text": [
      "-111.0 225.0\n"
     ]
    }
   ],
   "source": [
    "h = 1.5*(Q3-Q1)\n",
    "LF, UF = Q1-h, Q3+h\n",
    "print(LF, UF)"
   ]
  },
  {
   "cell_type": "markdown",
   "id": "599dcecd-a3a5-4c74-a27f-33fef6f37738",
   "metadata": {},
   "source": [
    "> (c) Boxplot the data. Comment on the plot."
   ]
  },
  {
   "cell_type": "code",
   "execution_count": 9,
   "id": "d14bcf72-43d2-477f-be85-0c3430f310c8",
   "metadata": {},
   "outputs": [
    {
     "data": {
      "image/png": "[encoded data removed]",
      "text/plain": [
       "<Figure size 640x480 with 1 Axes>"
      ]
     },
     "metadata": {},
     "output_type": "display_data"
    }
   ],
   "source": [
    "plt.boxplot(data)\n",
    "plt.show()"
   ]
  }
 ],
 "metadata": {
  "kernelspec": {
   "display_name": "Python 3 (ipykernel)",
   "language": "python",
   "name": "python3"
  },
  "language_info": {
   "codemirror_mode": {
    "name": "ipython",
    "version": 3
   },
   "file_extension": ".py",
   "mimetype": "text/x-python",
   "name": "python",
   "nbconvert_exporter": "python",
   "pygments_lexer": "ipython3",
   "version": "3.8.10"
  }
 },
 "nbformat": 4,
 "nbformat_minor": 5
}
