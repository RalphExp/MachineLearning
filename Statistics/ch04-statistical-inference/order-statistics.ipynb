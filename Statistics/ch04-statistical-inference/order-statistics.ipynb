{
 "cells": [
  {
   "cell_type": "markdown",
   "id": "c9e6508a-648f-4afd-ad5c-2448a8db3a46",
   "metadata": {},
   "source": [
    "# Exercises 4.4"
   ]
  },
  {
   "cell_type": "code",
   "execution_count": 3,
   "id": "e90de488-24be-4a64-864b-083fe35ba80b",
   "metadata": {},
   "outputs": [],
   "source": [
    "import numpy\n",
    "import scipy\n",
    "import math\n",
    "import rdata\n",
    "\n",
    "from scipy.special import gamma\n",
    "from scipy.stats import t, norm"
   ]
  },
  {
   "cell_type": "markdown",
   "id": "018bb54b-07c4-4e48-9895-701c61c9e770",
   "metadata": {},
   "source": [
    "> 4.4.2. Suppose the pdf f(x) is symmetric about 0 with cdf F(x). Show that the\n",
    "> probability of a potential outlier from this distribution is 2F(4q1), where F−1(0.25) =\n",
    "> q1 Use this to obtain the probability that an observation is a potential outlier for\n",
    "> the following distributions.\n",
    "\n",
    "> (a) The underlying distribution is normal. Use the N(0, 1) distribution."
   ]
  },
  {
   "cell_type": "code",
   "execution_count": 10,
   "id": "4d5ef9f9-c8fd-44b4-b337-3b3bca22fdfd",
   "metadata": {},
   "outputs": [
    {
     "name": "stdout",
     "output_type": "stream",
     "text": [
      "-0.6744897501960817 -2.697959000784327\n",
      "0.006976603239280237\n"
     ]
    }
   ],
   "source": [
    "q1 = norm.ppf(0.25)\n",
    "print(q1, 4*q1)\n",
    "# normal distribtuion\n",
    "res = 2*norm.cdf(4*q1)\n",
    "print(res)"
   ]
  },
  {
   "cell_type": "markdown",
   "id": "dbf336d5-2431-4e8a-9518-84af677c1d98",
   "metadata": {},
   "source": [
    "> (b) The underlying distribution is logistic; that is, the pdf is given by\n",
    "> f(x) = e^−x / (1 + e^−x)^2 , −∞ < x < ∞.\n",
    "\n",
    "> cdf F(x) = 1/(1 + e^-x)"
   ]
  },
  {
   "cell_type": "code",
   "execution_count": 14,
   "id": "222ab148-957f-4401-bf46-15a74c33dd58",
   "metadata": {},
   "outputs": [
    {
     "name": "stdout",
     "output_type": "stream",
     "text": [
      "-1.0986122886681098\n"
     ]
    }
   ],
   "source": [
    "*q1 = -math.log(3)\n",
    "print(q1)"
   ]
  },
  {
   "cell_type": "code",
   "execution_count": 15,
   "id": "b8f1ea44-a10c-4b8f-9d0f-96d72c384e46",
   "metadata": {},
   "outputs": [
    {
     "name": "stdout",
     "output_type": "stream",
     "text": [
      "0.024390243902439015\n"
     ]
    }
   ],
   "source": [
    "res = 2*(1/(1+math.exp(-q1*4)))\n",
    "print(res)"
   ]
  },
  {
   "cell_type": "markdown",
   "id": "615c7e29-e157-4ebf-ba93-68cd7bc870bc",
   "metadata": {},
   "source": [
    "> (c) The underlying distribution is Laplace, with the pdf\n",
    "> f(x) = 1/2*exp(−|x|), −∞ < x < ∞."
   ]
  },
  {
   "cell_type": "code",
   "execution_count": 19,
   "id": "da86b7e6-5bc6-4d6b-a549-5d4b79f80ab5",
   "metadata": {},
   "outputs": [
    {
     "name": "stdout",
     "output_type": "stream",
     "text": [
      "0.0625\n"
     ]
    }
   ],
   "source": [
    "q1 = -math.log(2)\n",
    "# when x < 0 F(x) = 1/2 * exp(x)\n",
    "res = 2*1/2*math.exp(4*q1)\n",
    "print(res)"
   ]
  },
  {
   "cell_type": "code",
   "execution_count": null,
   "id": "f81dcbf6-30c9-4926-89a1-f7b1db32cab5",
   "metadata": {},
   "outputs": [],
   "source": []
  }
 ],
 "metadata": {
  "kernelspec": {
   "display_name": "Python 3 (ipykernel)",
   "language": "python",
   "name": "python3"
  },
  "language_info": {
   "codemirror_mode": {
    "name": "ipython",
    "version": 3
   },
   "file_extension": ".py",
   "mimetype": "text/x-python",
   "name": "python",
   "nbconvert_exporter": "python",
   "pygments_lexer": "ipython3",
   "version": "3.8.10"
  }
 },
 "nbformat": 4,
 "nbformat_minor": 5
}
