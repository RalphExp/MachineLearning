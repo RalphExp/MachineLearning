{
 "cells": [
  {
   "cell_type": "markdown",
   "id": "c9e6508a-648f-4afd-ad5c-2448a8db3a46",
   "metadata": {},
   "source": [
    "# Exercises 4.4"
   ]
  },
  {
   "cell_type": "code",
   "execution_count": 1,
   "id": "e90de488-24be-4a64-864b-083fe35ba80b",
   "metadata": {},
   "outputs": [],
   "source": [
    "import numpy\n",
    "import scipy\n",
    "import math\n",
    "import rdata\n",
    "import matplotlib.pyplot as plt\n",
    "\n",
    "from scipy.special import gamma\n",
    "from scipy.stats import t, norm"
   ]
  },
  {
   "cell_type": "markdown",
   "id": "8f41737f-b609-467a-a571-c604b38b0852",
   "metadata": {},
   "source": [
    "> 4.4.2. Suppose the pdf f(x) is symmetric about 0 with cdf F(x). Show that the\n",
    "> probability of a potential outlier from this distribution is 2F(4q1), where F−1(0.25) =\n",
    "> q1 Use this to obtain the probability that an observation is a potential outlier for\n",
    "> the following distributions.\n",
    "\n",
    "> - (a) The underlying distribution is normal. Use the N(0, 1) distribution."
   ]
  },
  {
   "cell_type": "code",
   "execution_count": 2,
   "id": "4d5ef9f9-c8fd-44b4-b337-3b3bca22fdfd",
   "metadata": {},
   "outputs": [
    {
     "name": "stdout",
     "output_type": "stream",
     "text": [
      "-0.6744897501960817 -2.697959000784327\n",
      "0.006976603239280237\n"
     ]
    }
   ],
   "source": [
    "q1 = norm.ppf(0.25)\n",
    "print(q1, 4*q1)\n",
    "# normal distribtuion\n",
    "res = 2*norm.cdf(4*q1)\n",
    "print(res)"
   ]
  },
  {
   "cell_type": "markdown",
   "id": "98ea2174-7974-4607-a358-a5f8136b42e2",
   "metadata": {},
   "source": [
    "> - (b) The underlying distribution is logistic; that is, the pdf is given by\n",
    "> f(x) = e^−x / (1 + e^−x)^2 , −∞ < x < ∞."
   ]
  },
  {
   "cell_type": "markdown",
   "id": "576f08af-f982-4230-b52b-b585e71b6fae",
   "metadata": {},
   "source": [
    "# cdf F(x) = 1/(1 + e^-x)\n",
    "res = 2*(1/(1+math.exp(-q1*4)))\n",
    "print(res)"
   ]
  },
  {
   "cell_type": "code",
   "execution_count": 4,
   "id": "222ab148-957f-4401-bf46-15a74c33dd58",
   "metadata": {},
   "outputs": [
    {
     "name": "stdout",
     "output_type": "stream",
     "text": [
      "-1.0986122886681098\n"
     ]
    }
   ],
   "source": [
    "q1 = -math.log(3)\n",
    "print(q1)"
   ]
  },
  {
   "cell_type": "markdown",
   "id": "e24097c8-a8e1-4e4c-8441-12f744cebde6",
   "metadata": {},
   "source": [
    "> - (c) The underlying distribution is Laplace, with the pdf\n",
    "> f(x) = 1/2*exp(−|x|), −∞ < x < ∞."
   ]
  },
  {
   "cell_type": "code",
   "execution_count": 5,
   "id": "da86b7e6-5bc6-4d6b-a549-5d4b79f80ab5",
   "metadata": {},
   "outputs": [
    {
     "name": "stdout",
     "output_type": "stream",
     "text": [
      "0.0625\n"
     ]
    }
   ],
   "source": [
    "q1 = -math.log(2)\n",
    "# when x < 0 F(x) = 1/2 * exp(x)\n",
    "res = 2*1/2*math.exp(4*q1)\n",
    "print(res)"
   ]
  },
  {
   "cell_type": "markdown",
   "id": "71c56eaf-457b-4052-8cff-6b6be53477ed",
   "metadata": {},
   "source": [
    "> 4.4.3. Consider the sample of data (data are in the file ex4.4.3data.rda):\n",
    "\n",
    "13 5 202 15 99 4 67 83 36 11 301 23 213 40 66 106 78 69 166 84 64"
   ]
  },
  {
   "cell_type": "markdown",
   "id": "01195354-3bdf-4d41-aed7-ed8be669ebec",
   "metadata": {},
   "source": [
    "> - (a) Obtain the five-number summary of these data."
   ]
  },
  {
   "cell_type": "code",
   "execution_count": 6,
   "id": "20f5169b-bdc3-46af-bd6b-3aa402c20445",
   "metadata": {},
   "outputs": [
    {
     "name": "stdout",
     "output_type": "stream",
     "text": [
      "[4, 5, 11, 13, 15, 23, 36, 40, 64, 66, 67, 69, 78, 83, 84, 99, 106, 166, 202, 213, 301] 21\n"
     ]
    }
   ],
   "source": [
    "data = [13, 5, 202, 15, 99, 4, 67, 83, 36, 11, 301, 23, 213, 40, 66, 106, 78, 69, 166, 84, 64]\n",
    "data = sorted(data)\n",
    "print(data, len(data))"
   ]
  },
  {
   "cell_type": "code",
   "execution_count": 10,
   "id": "8df118d5-2783-4428-aa3e-00c7e6b6358a",
   "metadata": {},
   "outputs": [
    {
     "name": "stdout",
     "output_type": "stream",
     "text": [
      "4 15 67 99 301\n"
     ]
    }
   ],
   "source": [
    "Y1 = data[1-1]\n",
    "Q1 = data[(21+1)//4-1]\n",
    "Q2 = data[(21+1)//2-1]\n",
    "Q3 = data[(21+1)*3//4-1]\n",
    "Yn = data[21-1]\n",
    "print(Y1, Q1, Q2, Q3, Yn)"
   ]
  },
  {
   "cell_type": "markdown",
   "id": "71ed0172-017c-46d8-a15e-18a7e6d670a2",
   "metadata": {},
   "source": [
    "> - (b) Determine if there are any outliers."
   ]
  },
  {
   "cell_type": "raw",
   "id": "54810367-3c34-4a54-a630-3068b483884d",
   "metadata": {},
   "source": [
    "h = 1.5*(Q3-Q1)\n",
    "LF, UF = Q1-h, Q3+h\n",
    "print(LF, UF)"
   ]
  },
  {
   "cell_type": "markdown",
   "id": "12aac407-5061-49ea-b09a-ceaef0cc1b6a",
   "metadata": {},
   "source": [
    "> - (c) Boxplot the data. Comment on the plot."
   ]
  },
  {
   "cell_type": "code",
   "execution_count": 9,
   "id": "d14bcf72-43d2-477f-be85-0c3430f310c8",
   "metadata": {},
   "outputs": [
    {
     "data": {
      "image/png": "[encoded data removed]",
      "text/plain": [
       "<Figure size 640x480 with 1 Axes>"
      ]
     },
     "metadata": {},
     "output_type": "display_data"
    }
   ],
   "source": [
    "plt.boxplot(data)\n",
    "plt.show()"
   ]
  },
  {
   "cell_type": "markdown",
   "id": "75025781-a238-4885-9015-894bc633a5a6",
   "metadata": {},
   "source": [
    "> 4.4.4. Consider the data in Exercise 4.4.3. Obtain the normal q−q plot for these\n",
    "> data. Does the plot suggest that the underlying distribution is normal? If not, use> \n",
    "> the plot to determine a more appropriate distribution. Confirm your choice with a\n",
    "> q−q based on the quantiles using your chosen distribution."
   ]
  },
  {
   "cell_type": "code",
   "execution_count": 17,
   "id": "3e7d9e65-20ab-4068-b913-cfd012aff99a",
   "metadata": {},
   "outputs": [
    {
     "data": {
      "text/plain": [
       "[<matplotlib.lines.Line2D at 0x7f940dd33700>]"
      ]
     },
     "execution_count": 17,
     "metadata": {},
     "output_type": "execute_result"
    },
    {
     "data": {
      "image/png": "[encoded data removed]",
      "text/plain": [
       "<Figure size 640x480 with 1 Axes>"
      ]
     },
     "metadata": {},
     "output_type": "display_data"
    }
   ],
   "source": [
    "data_x = [norm.ppf(i/22) for i in range(1, 22)]\n",
    "plt.xlabel('normal quantile')\n",
    "plt.ylabel('sample quantile')\n",
    "plt.plot(data_x, data, 'bo')"
   ]
  },
  {
   "cell_type": "code",
   "execution_count": null,
   "id": "94ef7857-7ce7-4175-a402-d23187538d5b",
   "metadata": {},
   "outputs": [],
   "source": []
  }
 ],
 "metadata": {
  "kernelspec": {
   "display_name": "Python 3 (ipykernel)",
   "language": "python",
   "name": "python3"
  },
  "language_info": {
   "codemirror_mode": {
    "name": "ipython",
    "version": 3
   },
   "file_extension": ".py",
   "mimetype": "text/x-python",
   "name": "python",
   "nbconvert_exporter": "python",
   "pygments_lexer": "ipython3",
   "version": "3.8.10"
  }
 },
 "nbformat": 4,
 "nbformat_minor": 5
}
