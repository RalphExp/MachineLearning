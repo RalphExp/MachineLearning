{
 "cells": [
  {
   "cell_type": "markdown",
   "metadata": {},
   "source": [
    "# Exercises 4.2"
   ]
  },
  {
   "cell_type": "code",
   "execution_count": 1,
   "metadata": {},
   "outputs": [],
   "source": [
    "import numpy\n",
    "import scipy\n",
    "import math\n",
    "import rdata\n",
    "\n",
    "from scipy.special import gamma\n",
    "from scipy.stats import t, norm"
   ]
  },
  {
   "cell_type": "markdown",
   "metadata": {},
   "source": [
    "> 4.2.1 Let the observed value of the mean X and of the sample variance of a random\n",
    "> sample of size 20 from a distribution that is N(μ, σ2) be 81.2 and 26.5, respectively.\n",
    "> Find respectively 90%, 95% and 99% confidence intervals for μ."
   ]
  },
  {
   "cell_type": "code",
   "execution_count": 2,
   "metadata": {},
   "outputs": [],
   "source": [
    "tq95 = t.ppf(1-0.1/2, 20-1)\n",
    "tq975 = t.ppf(1-0.05/2, 20-1)\n",
    "tq995 = t.ppf(1-0.01/2, 20-1)"
   ]
  },
  {
   "cell_type": "code",
   "execution_count": 3,
   "metadata": {},
   "outputs": [],
   "source": [
    "mu90 = [81.2 - tq95*math.sqrt(26.5/20), 81.2 + tq95*math.sqrt(26.5/20)]\n",
    "mu95 = [81.2 - tq975*math.sqrt(26.5/20), 81.2 + tq975*math.sqrt(26.5/20)]\n",
    "mu99 = [81.2 - tq995*math.sqrt(26.5/20), 81.2 + tq995*math.sqrt(26.5/20)]"
   ]
  },
  {
   "cell_type": "code",
   "execution_count": 4,
   "metadata": {},
   "outputs": [
    {
     "name": "stdout",
     "output_type": "stream",
     "text": [
      "[np.float64(79.20961866195427), np.float64(83.19038133804574)]\n",
      "[np.float64(78.79074838542353), np.float64(83.60925161457648)]\n",
      "[np.float64(77.90681695928436), np.float64(84.49318304071565)]\n"
     ]
    }
   ],
   "source": [
    "print(mu90)\n",
    "print(mu95)\n",
    "print(mu99)"
   ]
  },
  {
   "cell_type": "markdown",
   "metadata": {},
   "source": [
    "> 4.2.2. Consider the data on the lifetimes of motors given in Exercise 4.1.1. Obtain\n",
    "> a large sample 95% confidence interval for the mean lifetime of a motor."
   ]
  },
  {
   "cell_type": "code",
   "execution_count": 5,
   "metadata": {},
   "outputs": [
    {
     "name": "stdout",
     "output_type": "stream",
     "text": [
      "avg: 101.15\n",
      "simple variation: 105.40911525550041\n",
      "[np.float64(51.81701549244916), np.float64(150.48298450755084)]\n"
     ]
    }
   ],
   "source": [
    "hours = [1, 4, 5, 21, 22, 28, 40, 42, 51, 53, 58, 67, 95, 124, 124, 160, 202, 260, 303, 363]\n",
    "mu = sum(hours)/len(hours)\n",
    "print(\"avg:\", mu)\n",
    "\n",
    "S2 = sum([(x - mu) ** 2 for x in hours])/(len(hours) - 1)\n",
    "print(\"simple variation:\", math.sqrt(S2))\n",
    "\n",
    "# we can reuse tq975 because the hours list has 20 elements \n",
    "interval = [mu - tq975 * math.sqrt(S2/len(hours)), mu + tq975 * math.sqrt(S2/len(hours))]\n",
    "print(interval)"
   ]
  },
  {
   "cell_type": "markdown",
   "metadata": {},
   "source": [
    "> 4.2.4. In Example 4.2.4, for the baseball data, we found a confidence interval for\n",
    "> the mean difference in heights between the pitchers and hitters. In this exercise,\n",
    "> find the pooled t 95% confidence interval for the mean difference in weights between\n",
    "> the pitchers and hitters."
   ]
  },
  {
   "cell_type": "code",
   "execution_count": 6,
   "metadata": {},
   "outputs": [
    {
     "name": "stdout",
     "output_type": "stream",
     "text": [
      "    hand  height  weight  hitind  hitpitind  average\n",
      "1    1.0    74.0   218.0     1.0        0.0    3.330\n",
      "2    0.0    75.0   185.0     1.0        1.0    0.286\n",
      "3    1.0    77.0   219.0     2.0        0.0    3.040\n",
      "4    0.0    73.0   185.0     1.0        1.0    0.271\n",
      "5    0.0    69.0   160.0     3.0        1.0    0.242\n",
      "6    0.0    73.0   222.0     1.0        0.0    3.920\n",
      "7    0.0    78.0   225.0     1.0        0.0    3.460\n",
      "8    0.0    76.0   205.0     1.0        0.0    3.420\n",
      "9    0.0    77.0   230.0     2.0        1.0    0.303\n",
      "10   0.0    78.0   225.0     1.0        0.0    3.460\n",
      "11   0.0    76.0   190.0     1.0        0.0    3.750\n",
      "12   0.0    72.0   180.0     3.0        1.0    0.236\n",
      "13   0.0    73.0   185.0     1.0        1.0    0.245\n",
      "14   1.0    73.0   200.0     2.0        0.0    4.800\n",
      "15   0.0    74.0   195.0     1.0        1.0    0.276\n",
      "16   0.0    75.0   195.0     1.0        0.0    3.660\n",
      "17   1.0    72.0   185.0     2.0        1.0    0.300\n",
      "18   0.0    75.0   190.0     1.0        1.0    0.239\n",
      "19   0.0    76.0   200.0     1.0        0.0    3.380\n",
      "20   1.0    76.0   180.0     2.0        0.0    3.290\n",
      "21   1.0    72.0   175.0     2.0        1.0    0.290\n",
      "22   1.0    76.0   195.0     2.0        0.0    4.990\n",
      "23   0.0    68.0   175.0     2.0        1.0    0.283\n",
      "24   0.0    73.0   185.0     1.0        1.0    0.271\n",
      "25   0.0    69.0   160.0     1.0        1.0    0.225\n",
      "26   0.0    76.0   211.0     3.0        1.0    0.282\n",
      "27   0.0    77.0   190.0     3.0        1.0    0.212\n",
      "28   0.0    74.0   195.0     1.0        1.0    0.262\n",
      "29   0.0    75.0   200.0     1.0        0.0    3.940\n",
      "30   0.0    73.0   207.0     3.0        1.0    0.251\n",
      "31   1.0    79.0   232.0     2.0        0.0    3.100\n",
      "32   0.0    72.0   190.0     1.0        1.0    0.238\n",
      "33   0.0    75.0   200.0     2.0        0.0    3.180\n",
      "34   0.0    70.0   175.0     2.0        1.0    0.279\n",
      "35   0.0    75.0   200.0     1.0        1.0    0.274\n",
      "36   0.0    78.0   220.0     1.0        0.0    3.880\n",
      "37   0.0    73.0   195.0     1.0        0.0    4.570\n",
      "38   1.0    75.0   205.0     2.0        1.0    0.284\n",
      "39   0.0    74.0   185.0     1.0        1.0    0.286\n",
      "40   0.0    71.0   185.0     3.0        1.0    0.218\n",
      "41   0.0    73.0   210.0     1.0        1.0    0.282\n",
      "42   1.0    76.0   210.0     2.0        0.0    3.280\n",
      "43   0.0    73.0   195.0     1.0        1.0    0.243\n",
      "44   0.0    75.0   205.0     1.0        0.0    3.700\n",
      "45   1.0    73.0   175.0     1.0        0.0    4.650\n",
      "46   1.0    73.0   190.0     2.0        1.0    0.238\n",
      "47   1.0    74.0   185.0     3.0        0.0    4.070\n",
      "48   0.0    72.0   190.0     3.0        1.0    0.254\n",
      "49   0.0    73.0   210.0     1.0        0.0    3.290\n",
      "50   0.0    71.0   195.0     1.0        1.0    0.244\n",
      "51   0.0    71.0   166.0     1.0        1.0    0.274\n",
      "52   1.0    71.0   185.0     1.0        0.0    3.730\n",
      "53   0.0    73.0   160.0     1.0        0.0    4.760\n",
      "54   1.0    74.0   170.0     2.0        1.0    0.271\n",
      "55   0.0    76.0   185.0     1.0        0.0    2.840\n",
      "56   0.0    71.0   155.0     3.0        1.0    0.251\n",
      "57   0.0    76.0   190.0     1.0        0.0    3.280\n",
      "58   0.0    71.0   160.0     3.0        1.0    0.270\n",
      "59   0.0    70.0   155.0     3.0        1.0    0.261\n"
     ]
    }
   ],
   "source": [
    "bbdata = rdata.read_rda('../Data/bb.rda')['bb']\n",
    "print(bbdata)"
   ]
  },
  {
   "cell_type": "code",
   "execution_count": 7,
   "metadata": {},
   "outputs": [
    {
     "name": "stdout",
     "output_type": "stream",
     "text": [
      "201.0 305.68 185.42424242424244 298.12689393939394\n",
      "[np.float64(6.458849183345414), np.float64(24.692665968169713)]\n"
     ]
    }
   ],
   "source": [
    "pit = bbdata[bbdata.where(bbdata['hitpitind'] == 0).notna().all(1)]['weight']\n",
    "hit = bbdata[bbdata.where(bbdata['hitpitind'] == 1).notna().all(1)]['weight']\n",
    "\n",
    "pitcount = pit.count()\n",
    "hitcount = hit.count()\n",
    "\n",
    "pitmean = pit.mean()\n",
    "hitmean = hit.mean()\n",
    "\n",
    "# sample variance\n",
    "pitvar = pit.var()\n",
    "hitvar = hit.var()\n",
    "\n",
    "Sp2 = ((pit.count()-1) * pitvar + (hit.count()-1) * hitvar) / (pitcount+hitcount-2)\n",
    "\n",
    "tq975 = t.ppf(1-0.05/2, pitcount+hitcount-2)\n",
    "\n",
    "print(pitmean, pitvar, hitmean, hitvar)\n",
    "\n",
    "interval = [pitmean-hitmean - tq975 * math.sqrt(Sp2*(1/pitcount + 1/hitcount)), \n",
    "            pitmean-hitmean + tq975 * math.sqrt(Sp2*(1/pitcount + 1/hitcount))]\n",
    "\n",
    "print(interval)"
   ]
  },
  {
   "cell_type": "markdown",
   "metadata": {},
   "source": [
    ">4.2.5. In the baseball data set discussed in the last exercise, it was found that out\n",
    ">of the 59 baseball players, 15 were left-handed. Is this odd, since the proportion of\n",
    ">left-handed males in America is about 11%? Answer by using (4.2.7) to construct a\n",
    ">95% approximate confidence interval for p, the proportion of left-handed professional\n",
    ">baseball players."
   ]
  },
  {
   "cell_type": "code",
   "execution_count": 8,
   "metadata": {},
   "outputs": [
    {
     "name": "stdout",
     "output_type": "stream",
     "text": [
      "[np.float64(0.14313012952897916), np.float64(0.36534444674220723)]\n"
     ]
    }
   ],
   "source": [
    "left = bbdata.where(bbdata['hand'] == 1)['hand'].count()\n",
    "right = bbdata.where(bbdata['hand'] == 0)['hand'].count()\n",
    "\n",
    "zq975 = norm.ppf(1-0.05/2)\n",
    "avg = left/(left+right)\n",
    "sigma2 = avg*(1-avg)\n",
    "interval = [avg - zq975*math.sqrt(sigma2/(left+right)), avg + zq975*math.sqrt(sigma2/(left+right))]\n",
    "\n",
    "print(interval)"
   ]
  },
  {
   "cell_type": "markdown",
   "metadata": {},
   "source": [
    "> 4.2.6. Let X be the mean of a random sample of size n from a distribution that is\n",
    "> N(μ, 9). Find n such that P(X − 1 < μ < X + 1) = 0.90, approximately."
   ]
  },
  {
   "cell_type": "code",
   "execution_count": 9,
   "metadata": {},
   "outputs": [
    {
     "name": "stdout",
     "output_type": "stream",
     "text": [
      "24.34989108685871 24\n"
     ]
    }
   ],
   "source": [
    "zq95 = norm.ppf(1-0.05)\n",
    "N = (3*zq95)**2\n",
    "print(N, int(N))"
   ]
  },
  {
   "cell_type": "markdown",
   "metadata": {},
   "source": [
    "> 4.2.7. Let a random sample of size 17 from the normal distribution N(μ, σ2) yield\n",
    "> x = 4.7 and s2 = 5.76. Determine a 90% confidence interval for μ."
   ]
  },
  {
   "cell_type": "code",
   "execution_count": 10,
   "metadata": {},
   "outputs": [
    {
     "name": "stdout",
     "output_type": "stream",
     "text": [
      "[np.float64(3.742554553985709), np.float64(5.657445446014291)]\n"
     ]
    }
   ],
   "source": [
    "x = 4.7\n",
    "n = 17\n",
    "s2 = 5.76\n",
    "zq95 = norm.ppf(1-0.05)\n",
    "interval = [x - zq95*math.sqrt(s2/n), x + zq95*math.sqrt(s2/n)]\n",
    "print(interval)"
   ]
  },
  {
   "cell_type": "markdown",
   "metadata": {},
   "source": [
    "> 4.2.8. Let X denote the mean of a random sample of size n from a distribution that\n",
    "> has mean μ and variance σ2 = 10. Find n so that the probability is approximately\n",
    "> 0.954 that the random interval (X − 1/2 , X + 1/2) includes μ."
   ]
  },
  {
   "cell_type": "code",
   "execution_count": 11,
   "metadata": {},
   "outputs": [
    {
     "name": "stdout",
     "output_type": "stream",
     "text": [
      "159\n"
     ]
    }
   ],
   "source": [
    "quantile = norm.ppf((1+0.954)/2)\n",
    "sigma2 = 10\n",
    "n = quantile**2 * 10 * 4\n",
    "print(int(n))"
   ]
  },
  {
   "cell_type": "markdown",
   "metadata": {},
   "source": [
    "> 4.2.9. Let X1,X2, . . . , X9 be a random sample of size 9 from a distribution that is\n",
    "> N(μ, σ2).\n",
    "\n",
    "> (b) If σ is unknown, find the expected value of the length of a 95% confidence\n",
    "> interval for μ if this interval is based on the random variable\n",
    "> √9(X − μ)/S.\n",
    "> Hint: Write E(S) = (σ/√n − 1)E[((n − 1)S2/σ2)1/2]."
   ]
  },
  {
   "cell_type": "code",
   "execution_count": 12,
   "metadata": {},
   "outputs": [
    {
     "name": "stdout",
     "output_type": "stream",
     "text": [
      "2.741624675377657 2.306004135204166 1.4901563212253477\n"
     ]
    }
   ],
   "source": [
    "A = math.sqrt(2) * gamma(9/2) / gamma(4)\n",
    "tq975 = t.ppf(1-0.05/2, 9-1)\n",
    "print(A, tq975, 2*A*tq975/3/math.sqrt(8))"
   ]
  },
  {
   "cell_type": "markdown",
   "metadata": {},
   "source": [
    "> 4.2.17. It is known that a random variable X has a Poisson distribution with\n",
    "> parameter μ. A sample of 200 observations from this distribution has a mean equal\n",
    "> to 3.4. Construct an approximate 90% confidence interval for μ."
   ]
  },
  {
   "cell_type": "code",
   "execution_count": 13,
   "metadata": {},
   "outputs": [
    {
     "name": "stdout",
     "output_type": "stream",
     "text": [
      "[np.float64(3.1855373255794333), np.float64(3.6144626744205666)]\n"
     ]
    }
   ],
   "source": [
    "zq95 = norm.ppf(0.95)\n",
    "avg = 3.4\n",
    "n = 200\n",
    "interval = [avg - zq95 * math.sqrt(avg/n), avg + zq95 * math.sqrt(avg/n)]\n",
    "print(interval)"
   ]
  },
  {
   "cell_type": "code",
   "execution_count": null,
   "metadata": {},
   "outputs": [],
   "source": []
  }
 ],
 "metadata": {
  "kernelspec": {
   "display_name": "Python 3 (ipykernel)",
   "language": "python",
   "name": "python3"
  },
  "language_info": {
   "codemirror_mode": {
    "name": "ipython",
    "version": 3
   },
   "file_extension": ".py",
   "mimetype": "text/x-python",
   "name": "python",
   "nbconvert_exporter": "python",
   "pygments_lexer": "ipython3",
   "version": "3.8.10"
  }
 },
 "nbformat": 4,
 "nbformat_minor": 4
}
