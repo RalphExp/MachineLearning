{
 "cells": [
  {
   "cell_type": "markdown",
   "metadata": {},
   "source": [
    "# Exercises 4.2"
   ]
  },
  {
   "cell_type": "code",
   "execution_count": 1,
   "metadata": {},
   "outputs": [],
   "source": [
    "import numpy\n",
    "import scipy\n",
    "import math\n",
    "\n",
    "from scipy.stats import t"
   ]
  },
  {
   "cell_type": "markdown",
   "metadata": {},
   "source": [
    "> 4.2.1 Let the observed value of the mean X and of the sample variance of a random\n",
    "> sample of size 20 from a distribution that is N(μ, σ2) be 81.2 and 26.5, respectively.\n",
    "> Find respectively 90%, 95% and 99% confidence intervals for μ."
   ]
  },
  {
   "cell_type": "code",
   "execution_count": 2,
   "metadata": {},
   "outputs": [],
   "source": [
    "q95 = t.ppf(1-0.1/2, 20-1)\n",
    "q975 = t.ppf(1-0.05/2, 20-1)\n",
    "q995 = t.ppf(1-0.01/2, 20-1)"
   ]
  },
  {
   "cell_type": "code",
   "execution_count": 3,
   "metadata": {},
   "outputs": [],
   "source": [
    "mu90 = [81.2 - q95*math.sqrt(26.5/20), 81.2 + q95*math.sqrt(26.5/20)]\n",
    "mu95 = [81.2 - q975*math.sqrt(26.5/20), 81.2 + q975*math.sqrt(26.5/20)]\n",
    "mu99 = [81.2 - q995*math.sqrt(26.5/20), 81.2 + q995*math.sqrt(26.5/20)]"
   ]
  },
  {
   "cell_type": "code",
   "execution_count": 4,
   "metadata": {},
   "outputs": [
    {
     "name": "stdout",
     "output_type": "stream",
     "text": [
      "[np.float64(79.20961866195427), np.float64(83.19038133804574)]\n",
      "[np.float64(78.79074838542353), np.float64(83.60925161457648)]\n",
      "[np.float64(77.90681695928436), np.float64(84.49318304071565)]\n"
     ]
    }
   ],
   "source": [
    "print(mu90)\n",
    "print(mu95)\n",
    "print(mu99)"
   ]
  },
  {
   "cell_type": "code",
   "execution_count": null,
   "metadata": {},
   "outputs": [],
   "source": []
  }
 ],
 "metadata": {
  "kernelspec": {
   "display_name": "Python 3 (ipykernel)",
   "language": "python",
   "name": "python3"
  },
  "language_info": {
   "codemirror_mode": {
    "name": "ipython",
    "version": 3
   },
   "file_extension": ".py",
   "mimetype": "text/x-python",
   "name": "python",
   "nbconvert_exporter": "python",
   "pygments_lexer": "ipython3",
   "version": "3.9.16"
  }
 },
 "nbformat": 4,
 "nbformat_minor": 4
}
