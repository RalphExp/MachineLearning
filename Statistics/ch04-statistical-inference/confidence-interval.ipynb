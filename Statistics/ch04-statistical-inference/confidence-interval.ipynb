{
 "cells": [
  {
   "cell_type": "markdown",
   "metadata": {},
   "source": [
    "# Exercises 4.2"
   ]
  },
  {
   "cell_type": "code",
   "execution_count": 14,
   "metadata": {},
   "outputs": [],
   "source": [
    "import numpy\n",
    "import scipy\n",
    "import math\n",
    "\n",
    "from scipy.stats import t, norm"
   ]
  },
  {
   "cell_type": "markdown",
   "metadata": {},
   "source": [
    "> 4.2.1 Let the observed value of the mean X and of the sample variance of a random\n",
    "> sample of size 20 from a distribution that is N(μ, σ2) be 81.2 and 26.5, respectively.\n",
    "> Find respectively 90%, 95% and 99% confidence intervals for μ."
   ]
  },
  {
   "cell_type": "code",
   "execution_count": 15,
   "metadata": {},
   "outputs": [],
   "source": [
    "tq95 = t.ppf(1-0.1/2, 20-1)\n",
    "tq975 = t.ppf(1-0.05/2, 20-1)\n",
    "tq995 = t.ppf(1-0.01/2, 20-1)"
   ]
  },
  {
   "cell_type": "code",
   "execution_count": 16,
   "metadata": {},
   "outputs": [],
   "source": [
    "mu90 = [81.2 - tq95*math.sqrt(26.5/20), 81.2 + tq95*math.sqrt(26.5/20)]\n",
    "mu95 = [81.2 - tq975*math.sqrt(26.5/20), 81.2 + tq975*math.sqrt(26.5/20)]\n",
    "mu99 = [81.2 - tq995*math.sqrt(26.5/20), 81.2 + tq995*math.sqrt(26.5/20)]"
   ]
  },
  {
   "cell_type": "code",
   "execution_count": 17,
   "metadata": {},
   "outputs": [
    {
     "name": "stdout",
     "output_type": "stream",
     "text": [
      "[np.float64(79.20961866195427), np.float64(83.19038133804574)]\n",
      "[np.float64(78.79074838542353), np.float64(83.60925161457648)]\n",
      "[np.float64(77.90681695928436), np.float64(84.49318304071565)]\n"
     ]
    }
   ],
   "source": [
    "print(mu90)\n",
    "print(mu95)\n",
    "print(mu99)"
   ]
  },
  {
   "cell_type": "markdown",
   "metadata": {},
   "source": [
    "> 4.2.2. Consider the data on the lifetimes of motors given in Exercise 4.1.1. Obtain\n",
    "> a large sample 95% confidence interval for the mean lifetime of a motor."
   ]
  },
  {
   "cell_type": "code",
   "execution_count": 22,
   "metadata": {},
   "outputs": [
    {
     "name": "stdout",
     "output_type": "stream",
     "text": [
      "avg: 101.15\n",
      "simple variation: 105.40911525550041\n",
      "[np.float64(51.81701549244916), np.float64(150.48298450755084)]\n"
     ]
    }
   ],
   "source": [
    "hours = [1, 4, 5, 21, 22, 28, 40, 42, 51, 53, 58, 67, 95, 124, 124, 160, 202, 260, 303, 363]\n",
    "mu = sum(hours)/len(hours)\n",
    "print(\"avg:\", mu)\n",
    "\n",
    "S2 = sum([(x - mu) ** 2 for x in hours])/(len(hours) - 1)\n",
    "print(\"simple variation:\", math.sqrt(S2))\n",
    "\n",
    "interval = [mu - tq975 * math.sqrt(S2/len(hours)), mu + tq975 * math.sqrt(S2/len(hours))]\n",
    "print(interval)"
   ]
  },
  {
   "cell_type": "markdown",
   "metadata": {},
   "source": []
  },
  {
   "cell_type": "code",
   "execution_count": null,
   "metadata": {},
   "outputs": [],
   "source": []
  }
 ],
 "metadata": {
  "kernelspec": {
   "display_name": "Python 3 (ipykernel)",
   "language": "python",
   "name": "python3"
  },
  "language_info": {
   "codemirror_mode": {
    "name": "ipython",
    "version": 3
   },
   "file_extension": ".py",
   "mimetype": "text/x-python",
   "name": "python",
   "nbconvert_exporter": "python",
   "pygments_lexer": "ipython3",
   "version": "3.9.16"
  }
 },
 "nbformat": 4,
 "nbformat_minor": 4
}
