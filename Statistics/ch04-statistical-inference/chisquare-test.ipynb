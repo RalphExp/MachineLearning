{
 "cells": [
  {
   "cell_type": "markdown",
   "metadata": {},
   "source": [
    "# Exercises 4.7"
   ]
  },
  {
   "cell_type": "code",
   "execution_count": null,
   "metadata": {},
   "outputs": [],
   "source": [
    "import numpy as np\n",
    "import scipy\n",
    "import math\n",
    "import rdata\n",
    "\n",
    "from scipy.special import gamma\n",
    "from scipy.stats import t, norm, chi2"
   ]
  },
  {
   "cell_type": "raw",
   "metadata": {
    "vscode": {
     "languageId": "raw"
    }
   },
   "source": [
    "4.7.1. Consider Example 4.7.2. Suppose the observed frequencies of A1, . . . , A4\n",
    " are 20, 30, 92, and 105, respectively. Modify the R code given in the example to\n",
    " calculate the test for these new frequencies. Report the p-value.\n",
    "\n",
    " (but we're going to use python here)\n"
   ]
  },
  {
   "cell_type": "code",
   "execution_count": 21,
   "metadata": {},
   "outputs": [
    {
     "name": "stdout",
     "output_type": "stream",
     "text": [
      "value = 0.018367582685620554\n"
     ]
    }
   ],
   "source": [
    "X = np.array([20, 30, 92, 105])\n",
    "ps = np.array([1, 3, 5, 7])/16\n",
    "n = X.sum()\n",
    "Q3 = ((X-n*ps)**2/(ps*n)).sum()\n",
    "pvalue = 1 - chi2.cdf(Q3, 3)\n",
    "print(\"value =\", pvalue)"
   ]
  },
  {
   "cell_type": "raw",
   "metadata": {
    "vscode": {
     "languageId": "raw"
    }
   },
   "source": [
    "4.7.2. A number is to be selected from the interval {x : 0 < x < 2} by a random\n",
    " process. Let Ai = {x : (i − 1)/2 < x ≤ i/2}, i = 1, 2, 3, and let A4 = {x : 3/2 < x < 2}. \n",
    " For i = 1, 2, 3, 4, suppose a certain hypothesis assigns probabilities\n",
    " pi0 to these sets in accordance with pi0 = Integrate Ai (1/2)(2 − x) dx, i = 1, 2, 3, 4. \n",
    " This hypothesis (concerning the multinomial pdf with k = 4) is to be tested at the 5%\n",
    " level of significance by a chi-square test. If the observed frequencies of the sets\n",
    " Ai, i = 1, 2, 3, 4, are respectively, 30, 30, 10, 10, would H0 be accepted at the\n",
    " (approximate) 5% level of significance? Use R code similar to that of Example 4.7.2\n",
    " for the computation.\n"
   ]
  },
  {
   "cell_type": "code",
   "execution_count": 22,
   "metadata": {},
   "outputs": [
    {
     "name": "stdout",
     "output_type": "stream",
     "text": [
      "value = 0.03876096621351888, result = reject\n"
     ]
    }
   ],
   "source": [
    "X = np.array([30, 30, 10, 10])\n",
    "ps = np.array([7, 5, 3, 1])/16\n",
    "n = X.sum()\n",
    "Q3 = ((X-n*ps)**2/(ps*n)).sum()\n",
    "pvalue = 1 - chi2.cdf(Q3, 3)\n",
    "res = \"reject\" if pvalue < 0.05 else \"not reject\"\n",
    "print(f\"value = {pvalue}, result = {res}\")"
   ]
  },
  {
   "cell_type": "raw",
   "metadata": {
    "vscode": {
     "languageId": "raw"
    }
   },
   "source": [
    "4.7.4. A die was cast n = 120 independent times and the following data resulted:\n",
    "\n",
    "  Spots Up  1  2  3  4  5  6\n",
    "  Frequency b 20 20 20 20 40 − b\n",
    "\n",
    "If we use a chi-square test, for what values of b would the hypothesis that the die\n",
    "is unbiased be rejected at the 0.025 significance level?\n"
   ]
  },
  {
   "cell_type": "code",
   "execution_count": 23,
   "metadata": {},
   "outputs": [
    {
     "name": "stdout",
     "output_type": "stream",
     "text": [
      "(8.671936620043995, 31.328063379956006)\n"
     ]
    }
   ],
   "source": [
    "print((20 - math.sqrt(10*chi2.ppf(1-0.025, 5)), 20 + math.sqrt(10*chi2.ppf(1-0.025, 5))))"
   ]
  },
  {
   "cell_type": "raw",
   "metadata": {
    "vscode": {
     "languageId": "raw"
    }
   },
   "source": [
    "4.7.6. Two different teaching procedures were used on two different groups of students.\n",
    "Each group contained 100 students of about the same ability. At the end of\n",
    "the term, an evaluating team assigned a letter grade to each student. The results\n",
    "were tabulated as follows.\n",
    "\n",
    "             Grade\n",
    "Group   A  B  C  D  F Total\n",
    "I      15 25 32 17 11   100\n",
    "II     9  18 29 28 16   100\n",
    "If we consider these data to be independent observations from two respective multinomial\n",
    "distributions with k = 5, test at the 5% significance level the hypothesis that the two distributions are the same\n"
   ]
  },
  {
   "cell_type": "code",
   "execution_count": 27,
   "metadata": {},
   "outputs": [
    {
     "name": "stdout",
     "output_type": "stream",
     "text": [
      "Q4 = 6.4018906821423025\n",
      "pvalue = 0.17107798737916569, result = not reject\n"
     ]
    }
   ],
   "source": [
    "X1 = np.array([15, 25, 32, 17, 11])\n",
    "X2 = np.array([9,  18, 29, 28, 16])\n",
    "n = 5\n",
    "\n",
    "# from page 287's formula(Lagrange's multiplier)\n",
    "Q4 = sum([((X1[i] - (X1[i] + X2[i])/2)**2 + \n",
    "       (X2[i] - (X1[i] + X2[i])/2)**2 )/ ((X1[i]+X2[i])/2) for i in range(0, 5)])\n",
    "print(\"Q4 =\", Q4)\n",
    "\n",
    "pvalue = 1-chi2.cdf(Q4, 4)\n",
    "res = \"reject\" if pvalue < 0.05 else \"not reject\"\n",
    "print(f\"pvalue = {pvalue}, result = {res}\")"
   ]
  },
  {
   "cell_type": "raw",
   "metadata": {
    "vscode": {
     "languageId": "raw"
    }
   },
   "source": [
    "4.7.8. Let the result of a random experiment be classified as one of the mutually\n",
    "exclusive and exhaustive ways A1,A2,A3 and also as one of the mutually exhaustive\n",
    "ways B1,B2,B3,B4. Say that 180 independent trials of the experiment result in\n",
    "the following frequencies:\n",
    "     B1     B2     B3    B4\n",
    "A1 15-3k, 15-k, 15+k, 15+3k\n",
    "A2   15     15    15     15\n",
    "A3 15+3k, 15+k, 15-k, 15-3k\n",
    "\n",
    "where k is one of the integers 0, 1, 2, 3, 4, 5. What is the smallest value of k that\n",
    "leads to the rejection of the independence of the A attribute and the B attribute at\n",
    "the α = 0.05 significance level?"
   ]
  },
  {
   "cell_type": "raw",
   "metadata": {
    "vscode": {
     "languageId": "raw"
    }
   },
   "source": [
    "Xi = 45\n",
    "Yi = 60\n",
    "n*pij = n * Xi/n * Yi / n = Xi*Yi/n = 45*60/180=15 \n",
    "solve (4(3k)^2 + 4k^2 + 4*0^2)/15 <= chi2.ppf(1-0.05, (4-1)*(3-1)) = chi2.ppf(0.95, 6) = 12.59\n",
    "\n",
    "k^2 <= chi2.ppf(0.95, 6) => k = 3 will be rejected"
   ]
  },
  {
   "cell_type": "markdown",
   "metadata": {},
   "source": []
  }
 ],
 "metadata": {
  "kernelspec": {
   "display_name": "Python 3",
   "language": "python",
   "name": "python3"
  },
  "language_info": {
   "codemirror_mode": {
    "name": "ipython",
    "version": 3
   },
   "file_extension": ".py",
   "mimetype": "text/x-python",
   "name": "python",
   "nbconvert_exporter": "python",
   "pygments_lexer": "ipython3",
   "version": "3.8.10"
  }
 },
 "nbformat": 4,
 "nbformat_minor": 2
}
