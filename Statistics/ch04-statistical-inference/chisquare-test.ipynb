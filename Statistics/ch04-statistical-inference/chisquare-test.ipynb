{
 "cells": [
  {
   "cell_type": "code",
   "execution_count": 3,
   "metadata": {},
   "outputs": [],
   "source": [
    "import numpy as np\n",
    "import scipy\n",
    "import math\n",
    "import rdata\n",
    "\n",
    "from scipy.special import gamma\n",
    "from scipy.stats import t, norm, chi2"
   ]
  },
  {
   "cell_type": "markdown",
   "metadata": {},
   "source": [
    "> 4.7.1. Consider Example 4.7.2. Suppose the observed frequencies of A1, . . . , A4\n",
    "> are 20, 30, 92, and 105, respectively. Modify the R code given in the example to\n",
    "> calculate the test for these new frequencies. Report the p-value.\n",
    "\n",
    "> (but we're going to use python here)"
   ]
  },
  {
   "cell_type": "code",
   "execution_count": 6,
   "metadata": {},
   "outputs": [
    {
     "name": "stdout",
     "output_type": "stream",
     "text": [
      "value = 0.018367582685620554\n"
     ]
    }
   ],
   "source": [
    "X = np.array([20, 30, 92, 105])\n",
    "ps = np.array([1, 3, 5, 7])/16\n",
    "n = X.sum()\n",
    "Q3 = ((X-n*ps)**2/(ps*n)).sum()\n",
    "pvalue = 1 - chi2.cdf(Q3, 3)\n",
    "print(\"value =\", pvalue)"
   ]
  }
 ],
 "metadata": {
  "kernelspec": {
   "display_name": "Python 3",
   "language": "python",
   "name": "python3"
  },
  "language_info": {
   "codemirror_mode": {
    "name": "ipython",
    "version": 3
   },
   "file_extension": ".py",
   "mimetype": "text/x-python",
   "name": "python",
   "nbconvert_exporter": "python",
   "pygments_lexer": "ipython3",
   "version": "3.8.10"
  }
 },
 "nbformat": 4,
 "nbformat_minor": 2
}
