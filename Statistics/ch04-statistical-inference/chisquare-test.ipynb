{
 "cells": [
  {
   "cell_type": "code",
   "execution_count": 3,
   "metadata": {},
   "outputs": [],
   "source": [
    "import numpy as np\n",
    "import scipy\n",
    "import math\n",
    "import rdata\n",
    "\n",
    "from scipy.special import gamma\n",
    "from scipy.stats import t, norm, chi2"
   ]
  },
  {
   "cell_type": "markdown",
   "metadata": {},
   "source": [
    "> 4.7.1. Consider Example 4.7.2. Suppose the observed frequencies of A1, . . . , A4\n",
    "> are 20, 30, 92, and 105, respectively. Modify the R code given in the example to\n",
    "> calculate the test for these new frequencies. Report the p-value.\n",
    "\n",
    "> (but we're going to use python here)"
   ]
  },
  {
   "cell_type": "code",
   "execution_count": 6,
   "metadata": {},
   "outputs": [
    {
     "name": "stdout",
     "output_type": "stream",
     "text": [
      "value = 0.018367582685620554\n"
     ]
    }
   ],
   "source": [
    "X = np.array([20, 30, 92, 105])\n",
    "ps = np.array([1, 3, 5, 7])/16\n",
    "n = X.sum()\n",
    "Q3 = ((X-n*ps)**2/(ps*n)).sum()\n",
    "pvalue = 1 - chi2.cdf(Q3, 3)\n",
    "print(\"value =\", pvalue)"
   ]
  },
  {
   "cell_type": "markdown",
   "metadata": {},
   "source": [
    "> 4.7.2. A number is to be selected from the interval {x : 0 < x < 2} by a random\n",
    "> process. Let Ai = {x : (i − 1)/2 < x ≤ i/2}, i = 1, 2, 3, and let A4 = {x : 3/2 < x < 2}. \n",
    "> For i = 1, 2, 3, 4, suppose a certain hypothesis assigns probabilities\n",
    "> pi0 to these sets in accordance with pi0 = Integrate Ai (1/2)(2 − x) dx, i = 1, 2, 3, 4. \n",
    "> This hypothesis (concerning the multinomial pdf with k = 4) is to be tested at the 5%\n",
    "> level of significance by a chi-square test. If the observed frequencies of the sets\n",
    "> Ai, i = 1, 2, 3, 4, are respectively, 30, 30, 10, 10, would H0 be accepted at the\n",
    "> (approximate) 5% level of significance? Use R code similar to that of Example 4.7.2\n",
    "> for the computation."
   ]
  },
  {
   "cell_type": "code",
   "execution_count": 9,
   "metadata": {},
   "outputs": [
    {
     "name": "stdout",
     "output_type": "stream",
     "text": [
      "value = 0.03876096621351888, result = reject\n"
     ]
    }
   ],
   "source": [
    "X = np.array([30, 30, 10, 10])\n",
    "ps = np.array([7, 5, 3, 1])/16\n",
    "n = X.sum()\n",
    "Q3 = ((X-n*ps)**2/(ps*n)).sum()\n",
    "pvalue = 1 - chi2.cdf(Q3, 3)\n",
    "res = \"reject\" if pvalue < 0.05 else \"accept\"\n",
    "print(f\"value = {pvalue}, result = {res}\")"
   ]
  },
  {
   "cell_type": "markdown",
   "metadata": {},
   "source": [
    "> 4.7.4. A die was cast n = 120 independent times and the following data resulted:\n",
    "\n",
    "> Spots Up 1 2 3 4 5 6\n",
    "\n",
    "> Frequency b 20 20 20 20 40 − b\n",
    "\n",
    "> If we use a chi-square test, for what values of b would the hypothesis that the die\n",
    "> is unbiased be rejected at the 0.025 significance level?"
   ]
  },
  {
   "cell_type": "code",
   "execution_count": 12,
   "metadata": {},
   "outputs": [
    {
     "name": "stdout",
     "output_type": "stream",
     "text": [
      "(8.671936620043995, 31.328063379956006)\n"
     ]
    }
   ],
   "source": [
    "print((20 - math.sqrt(10*chi2.ppf(1-0.025, 5)), 20 + math.sqrt(10*chi2.ppf(1-0.025, 5))))"
   ]
  }
 ],
 "metadata": {
  "kernelspec": {
   "display_name": "Python 3",
   "language": "python",
   "name": "python3"
  },
  "language_info": {
   "codemirror_mode": {
    "name": "ipython",
    "version": 3
   },
   "file_extension": ".py",
   "mimetype": "text/x-python",
   "name": "python",
   "nbconvert_exporter": "python",
   "pygments_lexer": "ipython3",
   "version": "3.8.10"
  }
 },
 "nbformat": 4,
 "nbformat_minor": 2
}
